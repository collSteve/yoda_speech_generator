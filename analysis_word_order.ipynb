{
 "cells": [
  {
   "cell_type": "code",
   "execution_count": 4,
   "metadata": {},
   "outputs": [],
   "source": [
    "\n",
    "import spacy\n",
    "\n",
    "nlp = spacy.load(\"en_core_web_sm\")\n"
   ]
  },
  {
   "cell_type": "markdown",
   "metadata": {},
   "source": [
    "# Load Data set"
   ]
  },
  {
   "cell_type": "code",
   "execution_count": 5,
   "metadata": {},
   "outputs": [],
   "source": [
    "import pandas as pd\n",
    "import json\n"
   ]
  },
  {
   "cell_type": "code",
   "execution_count": 6,
   "metadata": {},
   "outputs": [],
   "source": [
    "df = pd.read_csv(\"data/yoda_sentences_normalized.csv\")\n",
    "\n",
    "# If the mapping column is stored as a JSON string, convert it to a Python list.\n",
    "df[\"mapping\"] = df[\"mapping\"].apply(lambda x: json.loads(x) if isinstance(x, str) else x)"
   ]
  },
  {
   "cell_type": "markdown",
   "metadata": {},
   "source": [
    "# Word Order"
   ]
  },
  {
   "cell_type": "code",
   "execution_count": 7,
   "metadata": {},
   "outputs": [],
   "source": [
    "\n",
    "def extract_labels_from_sentence(sentence: str) -> list:\n",
    "    \"\"\"\n",
    "    Parse a canonical English sentence and assign each token a label:\n",
    "      - 'S' for subject (nsubj or nsubjpass)\n",
    "      - 'V' for main verb (ROOT)\n",
    "      - 'O' for object (dobj, attr, or pobj)\n",
    "      - 'X' for any other token\n",
    "    Returns:\n",
    "      A list of labels corresponding to each token in the sentence.\n",
    "    \"\"\"\n",
    "    doc = nlp(sentence)\n",
    "    labels = []\n",
    "    for token in doc:\n",
    "        if token.dep_ in (\"nsubj\", \"nsubjpass\"):\n",
    "            labels.append(\"S\")\n",
    "        elif token.dep_ == \"ROOT\":\n",
    "            labels.append(\"V\")\n",
    "        elif token.dep_ in (\"dobj\", \"attr\", \"pobj\"):\n",
    "            labels.append(\"O\")\n",
    "        else:\n",
    "            labels.append(\"X\")\n",
    "    return labels\n"
   ]
  },
  {
   "cell_type": "code",
   "execution_count": 8,
   "metadata": {},
   "outputs": [],
   "source": [
    "def map_labels_by_mapping(norm_labels: list, mapping: list[int]) -> list:\n",
    "    \"\"\"\n",
    "    Reorder the list of normalized labels to match the original Yoda sentence using the mapping.\n",
    "    \n",
    "    Args:\n",
    "        norm_labels: List of labels for the normalized sentence.\n",
    "        mapping: List of integers where mapping[i] is the index of the token in the original Yoda sentence \n",
    "                 corresponding to the normalized token at position i.\n",
    "    \n",
    "    Returns:\n",
    "        A list of labels ordered by the original Yoda sentence.\n",
    "    \"\"\"\n",
    "    # Determine length of original sentence (assume max index + 1)\n",
    "    n = max(mapping) + 1 if mapping else 0\n",
    "    original_labels = [None] * n\n",
    "    for norm_idx, orig_idx in enumerate(mapping):\n",
    "        original_labels[orig_idx] = norm_labels[norm_idx]\n",
    "    return original_labels"
   ]
  },
  {
   "cell_type": "code",
   "execution_count": 9,
   "metadata": {},
   "outputs": [],
   "source": [
    "def infer_word_order_from_labels(mapped_labels: list) -> str:\n",
    "    \"\"\"\n",
    "    Given a list of labels (for the original sentence), extract the order of S (subject), V (verb), and O (object)\n",
    "    by filtering out tokens that are not S, V, or O.\n",
    "    \n",
    "    Returns:\n",
    "        A string representing the word order (e.g. 'OSV'). If one or more roles are missing, appends ' (Incomplete)'.\n",
    "    \"\"\"\n",
    "    order_tokens = [label for label in mapped_labels if label in (\"S\", \"V\", \"O\")]\n",
    "    incomplete = \"\"\n",
    "    if not all(role in order_tokens for role in (\"S\", \"V\", \"O\")):\n",
    "        incomplete = \" (Incomplete)\"\n",
    "    return \"\".join(order_tokens) + incomplete"
   ]
  },
  {
   "cell_type": "code",
   "execution_count": 10,
   "metadata": {},
   "outputs": [
    {
     "name": "stdout",
     "output_type": "stream",
     "text": [
      "Normalized labels: ['S', 'V', 'X', 'O', 'X']\n",
      "Mapped labels: ['X', 'O', 'S', 'V']\n",
      "Inferred Yoda word order: OSV\n"
     ]
    }
   ],
   "source": [
    "normalized_sentence = \"He is your father.\"\n",
    "example_mapping = [2, 3, 0, 1]  \n",
    "\n",
    "norm_labels = extract_labels_from_sentence(normalized_sentence)\n",
    "print(\"Normalized labels:\", norm_labels)\n",
    "# e.g., output might be: ['S', 'V', 'X', 'O'] \n",
    "\n",
    "# 2. Map these labels to the original Yoda sentence order.\n",
    "mapped_labels = map_labels_by_mapping(norm_labels, example_mapping)\n",
    "print(\"Mapped labels:\", mapped_labels)\n",
    "# e.g., the list might become: ['O', 'O', 'S', 'V'] \n",
    "\n",
    "# 3. Infer the word order from the mapped labels.\n",
    "word_order = infer_word_order_from_labels(mapped_labels)\n",
    "print(\"Inferred Yoda word order:\", word_order)"
   ]
  },
  {
   "cell_type": "code",
   "execution_count": 11,
   "metadata": {},
   "outputs": [],
   "source": [
    "def infer_yoda_word_order(row) -> str:\n",
    "    \"\"\"\n",
    "    Given a DataFrame row with columns 'normal_english' and 'mapping',\n",
    "    computes the Yoda word order using our three-step process.\n",
    "    \"\"\"\n",
    "    normal_text = row[\"normal_english\"]\n",
    "    mapping = row[\"mapping\"]\n",
    "    # 1. Extract labels from the normalized sentence\n",
    "    norm_labels = extract_labels_from_sentence(normal_text)\n",
    "    # 2. Map these labels to the original Yoda sentence using the provided mapping\n",
    "    mapped_labels = map_labels_by_mapping(norm_labels, mapping)\n",
    "    # 3. Infer the word order from the mapped labels\n",
    "    word_order = infer_word_order_from_labels(mapped_labels)\n",
    "    return word_order"
   ]
  },
  {
   "cell_type": "code",
   "execution_count": 12,
   "metadata": {},
   "outputs": [],
   "source": [
    "def infer_normal_word_order(normal_text: str) -> str:\n",
    "    \"\"\"\n",
    "    Computes the word order of a canonical English sentence by:\n",
    "      1. Extracting token labels from the sentence.\n",
    "      2. Filtering for S, V, and O tokens in order.\n",
    "    \"\"\"\n",
    "    norm_labels = extract_labels_from_sentence(normal_text)\n",
    "    return infer_word_order_from_labels(norm_labels)"
   ]
  },
  {
   "cell_type": "code",
   "execution_count": 13,
   "metadata": {},
   "outputs": [],
   "source": [
    "df_copy = df.copy()\n",
    "\n",
    "df_copy[\"normal_word_order\"] = df_copy[\"normal_english\"].apply(infer_normal_word_order)\n",
    "df_copy[\"yoda_word_order\"] = df_copy.apply(infer_yoda_word_order, axis=1)\n"
   ]
  },
  {
   "cell_type": "code",
   "execution_count": 17,
   "metadata": {},
   "outputs": [
    {
     "data": {
      "text/html": [
       "<div>\n",
       "<style scoped>\n",
       "    .dataframe tbody tr th:only-of-type {\n",
       "        vertical-align: middle;\n",
       "    }\n",
       "\n",
       "    .dataframe tbody tr th {\n",
       "        vertical-align: top;\n",
       "    }\n",
       "\n",
       "    .dataframe thead th {\n",
       "        text-align: right;\n",
       "    }\n",
       "</style>\n",
       "<table border=\"1\" class=\"dataframe\">\n",
       "  <thead>\n",
       "    <tr style=\"text-align: right;\">\n",
       "      <th></th>\n",
       "      <th>original</th>\n",
       "      <th>normal_english</th>\n",
       "      <th>mapping</th>\n",
       "      <th>yoda_word_order</th>\n",
       "      <th>normal_word_order</th>\n",
       "    </tr>\n",
       "  </thead>\n",
       "  <tbody>\n",
       "    <tr>\n",
       "      <th>0</th>\n",
       "      <td>the very republic is threatened, if involved t...</td>\n",
       "      <td>if the sith are involved, the very republic is...</td>\n",
       "      <td>[5, 7, 8, 9, 6, 0, 1, 2, 3, 4]</td>\n",
       "      <td>SS (Incomplete)</td>\n",
       "      <td>SSV (Incomplete)</td>\n",
       "    </tr>\n",
       "    <tr>\n",
       "      <th>1</th>\n",
       "      <td>hard to see, the dark side is.</td>\n",
       "      <td>The dark side is hard to see.</td>\n",
       "      <td>[3, 4, 5, 6, 0, 1, 2]</td>\n",
       "      <td>SV (Incomplete)</td>\n",
       "      <td>SV (Incomplete)</td>\n",
       "    </tr>\n",
       "    <tr>\n",
       "      <th>2</th>\n",
       "      <td>discover who this assassin is, we must.</td>\n",
       "      <td>We must discover who this assassin is.</td>\n",
       "      <td>[5, 6, 0, 1, 2, 3, 4]</td>\n",
       "      <td>VOSS</td>\n",
       "      <td>SVOS</td>\n",
       "    </tr>\n",
       "    <tr>\n",
       "      <th>3</th>\n",
       "      <td>with this naboo queen you must stay, qui-gon.</td>\n",
       "      <td>Qui-gon, you must stay with this naboo queen.</td>\n",
       "      <td>[7, 4, 5, 6, 0, 1, 2, 3]</td>\n",
       "      <td>SV (Incomplete)</td>\n",
       "      <td>SVO</td>\n",
       "    </tr>\n",
       "    <tr>\n",
       "      <th>4</th>\n",
       "      <td>protect her.</td>\n",
       "      <td>Protect her.</td>\n",
       "      <td>[0, 1]</td>\n",
       "      <td>VO (Incomplete)</td>\n",
       "      <td>VO (Incomplete)</td>\n",
       "    </tr>\n",
       "    <tr>\n",
       "      <th>5</th>\n",
       "      <td>may the force be with you.</td>\n",
       "      <td>May the force be with you.</td>\n",
       "      <td>[0, 1, 2, 3, 4, 5]</td>\n",
       "      <td>SVO</td>\n",
       "      <td>SVO</td>\n",
       "    </tr>\n",
       "    <tr>\n",
       "      <th>6</th>\n",
       "      <td>(cont'd) master qui-gon more to say have you?</td>\n",
       "      <td>You have more to say, master Qui-Gon (cont'd)?</td>\n",
       "      <td>[7, 6, 3, 4, 5, 1, 2, 0]</td>\n",
       "      <td>OVS</td>\n",
       "      <td>SVOO</td>\n",
       "    </tr>\n",
       "    <tr>\n",
       "      <th>7</th>\n",
       "      <td>a vergence, you say?</td>\n",
       "      <td>You say a vergence?</td>\n",
       "      <td>[2, 3, 0, 1]</td>\n",
       "      <td>OSV</td>\n",
       "      <td>SVO</td>\n",
       "    </tr>\n",
       "    <tr>\n",
       "      <th>8</th>\n",
       "      <td>but you do!</td>\n",
       "      <td>You do but!</td>\n",
       "      <td>[1, 2, 0]</td>\n",
       "      <td>SV (Incomplete)</td>\n",
       "      <td>SV (Incomplete)</td>\n",
       "    </tr>\n",
       "    <tr>\n",
       "      <th>9</th>\n",
       "      <td>rrevealed your opinion is.</td>\n",
       "      <td>Your opinion is rrevealed.</td>\n",
       "      <td>[1, 2, 3, 0]</td>\n",
       "      <td>VS (Incomplete)</td>\n",
       "      <td>SV (Incomplete)</td>\n",
       "    </tr>\n",
       "  </tbody>\n",
       "</table>\n",
       "</div>"
      ],
      "text/plain": [
       "                                            original  \\\n",
       "0  the very republic is threatened, if involved t...   \n",
       "1                     hard to see, the dark side is.   \n",
       "2            discover who this assassin is, we must.   \n",
       "3      with this naboo queen you must stay, qui-gon.   \n",
       "4                                       protect her.   \n",
       "5                         may the force be with you.   \n",
       "6      (cont'd) master qui-gon more to say have you?   \n",
       "7                               a vergence, you say?   \n",
       "8                                        but you do!   \n",
       "9                         rrevealed your opinion is.   \n",
       "\n",
       "                                      normal_english  \\\n",
       "0  if the sith are involved, the very republic is...   \n",
       "1                      The dark side is hard to see.   \n",
       "2             We must discover who this assassin is.   \n",
       "3      Qui-gon, you must stay with this naboo queen.   \n",
       "4                                       Protect her.   \n",
       "5                         May the force be with you.   \n",
       "6     You have more to say, master Qui-Gon (cont'd)?   \n",
       "7                                You say a vergence?   \n",
       "8                                        You do but!   \n",
       "9                         Your opinion is rrevealed.   \n",
       "\n",
       "                          mapping  yoda_word_order normal_word_order  \n",
       "0  [5, 7, 8, 9, 6, 0, 1, 2, 3, 4]  SS (Incomplete)  SSV (Incomplete)  \n",
       "1           [3, 4, 5, 6, 0, 1, 2]  SV (Incomplete)   SV (Incomplete)  \n",
       "2           [5, 6, 0, 1, 2, 3, 4]             VOSS              SVOS  \n",
       "3        [7, 4, 5, 6, 0, 1, 2, 3]  SV (Incomplete)               SVO  \n",
       "4                          [0, 1]  VO (Incomplete)   VO (Incomplete)  \n",
       "5              [0, 1, 2, 3, 4, 5]              SVO               SVO  \n",
       "6        [7, 6, 3, 4, 5, 1, 2, 0]              OVS              SVOO  \n",
       "7                    [2, 3, 0, 1]              OSV               SVO  \n",
       "8                       [1, 2, 0]  SV (Incomplete)   SV (Incomplete)  \n",
       "9                    [1, 2, 3, 0]  VS (Incomplete)   SV (Incomplete)  "
      ]
     },
     "metadata": {},
     "output_type": "display_data"
    }
   ],
   "source": [
    "display(df_copy[[\"original\", \"normal_english\", \"mapping\", \"yoda_word_order\", \"normal_word_order\"]].head(10))"
   ]
  },
  {
   "cell_type": "code",
   "execution_count": 18,
   "metadata": {},
   "outputs": [],
   "source": [
    "import json"
   ]
  },
  {
   "cell_type": "code",
   "execution_count": 19,
   "metadata": {},
   "outputs": [],
   "source": [
    "df_to_save = df_copy.copy()\n",
    "df_to_save['mapping'] = df_to_save['mapping'].apply(json.dumps)\n",
    "\n",
    "df_to_save.to_csv(\"data/yoda_word_order.csv\", index=False)"
   ]
  },
  {
   "cell_type": "markdown",
   "metadata": {},
   "source": [
    "# Analysis"
   ]
  },
  {
   "cell_type": "code",
   "execution_count": 20,
   "metadata": {},
   "outputs": [],
   "source": [
    "import pandas as pd\n",
    "import json\n",
    "import matplotlib.pyplot as plt"
   ]
  },
  {
   "cell_type": "code",
   "execution_count": 25,
   "metadata": {},
   "outputs": [],
   "source": [
    "word_order_df = pd.read_csv(\"data/yoda_word_order.csv\")\n",
    "\n",
    "# If the mapping column is stored as a JSON string, convert it to a Python list.\n",
    "word_order_df[\"mapping\"] = word_order_df[\"mapping\"].apply(lambda x: json.loads(x) if isinstance(x, str) else x)"
   ]
  },
  {
   "cell_type": "code",
   "execution_count": 27,
   "metadata": {},
   "outputs": [],
   "source": [
    "normal_counts = word_order_df[\"normal_word_order\"].value_counts(normalize=True) * 100\n",
    "yoda_counts   = word_order_df[\"yoda_word_order\"].value_counts(normalize=True) * 100"
   ]
  },
  {
   "cell_type": "code",
   "execution_count": 31,
   "metadata": {},
   "outputs": [
    {
     "name": "stdout",
     "output_type": "stream",
     "text": [
      "\n",
      "Yoda Speech Word Order Distribution:\n",
      "V (Incomplete): 11.80%\n",
      "SV (Incomplete): 11.80%\n",
      "OSV: 11.24%\n",
      "VS (Incomplete): 8.99%\n",
      "VOS: 8.99%\n",
      "SVO: 6.74%\n",
      "VO (Incomplete): 6.18%\n",
      "OVS: 3.37%\n",
      "OV (Incomplete): 2.81%\n",
      "OSVO: 2.25%\n",
      "VSO: 1.69%\n",
      "OOSV: 1.69%\n",
      "SVOO: 1.69%\n",
      "SVS (Incomplete): 1.69%\n",
      "OVO (Incomplete): 1.69%\n",
      "OOOSV: 1.12%\n",
      "VSOOS: 1.12%\n",
      "SOS (Incomplete): 1.12%\n",
      "VOSS: 0.56%\n",
      "SVOOSV: 0.56%\n",
      "VSVO: 0.56%\n",
      "OOVSS: 0.56%\n",
      "OSVS: 0.56%\n",
      "VOO (Incomplete): 0.56%\n",
      "SOSVO: 0.56%\n",
      "OVOOS: 0.56%\n",
      "VOOS: 0.56%\n",
      "SOVO: 0.56%\n",
      "OSOVO: 0.56%\n",
      "OOVS: 0.56%\n",
      "SOOSV: 0.56%\n",
      "OOVSO: 0.56%\n",
      "SS (Incomplete): 0.56%\n",
      "SSV (Incomplete): 0.56%\n",
      "OOV (Incomplete): 0.56%\n",
      "VVS (Incomplete): 0.56%\n",
      "SSO (Incomplete): 0.56%\n",
      "VSOOO: 0.56%\n",
      "S (Incomplete): 0.56%\n",
      "OOOV (Incomplete): 0.56%\n",
      "SOVSO: 0.56%\n",
      "VOSOS: 0.56%\n",
      "OS (Incomplete): 0.56%\n"
     ]
    }
   ],
   "source": [
    "print(\"\\nYoda Speech Word Order Distribution:\")\n",
    "for order, pct in yoda_counts.sort_values(ascending=False).items():\n",
    "    print(f\"{order}: {pct:.2f}%\")"
   ]
  },
  {
   "cell_type": "code",
   "execution_count": 33,
   "metadata": {},
   "outputs": [
    {
     "name": "stdout",
     "output_type": "stream",
     "text": [
      "\n",
      "Yoda Speech Word Order Distribution:\n",
      "V (Incomplete), SV (Incomplete), OSV, VS (Incomplete), VOS, SVO, VO (Incomplete), OVS, OV (Incomplete), OSVO, VSO, OOSV, SVOO, SVS (Incomplete), OVO (Incomplete), OOOSV, VSOOS, SOS (Incomplete), VOSS, SVOOSV, VSVO, OOVSS, OSVS, VOO (Incomplete), SOSVO, OVOOS, VOOS, SOVO, OSOVO, OOVS, SOOSV, OOVSO, SS (Incomplete), SSV (Incomplete), OOV (Incomplete), VVS (Incomplete), SSO (Incomplete), VSOOO, S (Incomplete), OOOV (Incomplete), SOVSO, VOSOS, OS (Incomplete), "
     ]
    }
   ],
   "source": [
    "print(\"\\nYoda Speech Word Order Distribution:\")\n",
    "for order, pct in yoda_counts.sort_values(ascending=False).items():\n",
    "    print(f\"{order}, \", end=\"\")"
   ]
  },
  {
   "cell_type": "code",
   "execution_count": 23,
   "metadata": {},
   "outputs": [
    {
     "name": "stdout",
     "output_type": "stream",
     "text": [
      "                   Normal English  Yoda Speech\n",
      "OOOSV                    0.000000     1.123596\n",
      "OOOV (Incomplete)        0.000000     0.561798\n",
      "OOSV                     0.000000     1.685393\n",
      "OOSVSO                   0.561798     0.000000\n",
      "OOV (Incomplete)         0.000000     0.561798\n",
      "...                           ...          ...\n",
      "VSOOO                    0.561798     0.561798\n",
      "VSOOS                    0.000000     1.123596\n",
      "VSVO                     0.561798     0.561798\n",
      "VV (Incomplete)          1.123596     0.000000\n",
      "VVS (Incomplete)         0.000000     0.561798\n",
      "\n",
      "[64 rows x 2 columns]\n"
     ]
    },
    {
     "data": {
      "image/png": "[encoded data removed]",
      "text/plain": [
       "<Figure size 1000x600 with 1 Axes>"
      ]
     },
     "metadata": {},
     "output_type": "display_data"
    }
   ],
   "source": [
    "normal_counts = word_order_df[\"normal_word_order\"].value_counts(normalize=True) * 100\n",
    "yoda_counts   = word_order_df[\"yoda_word_order\"].value_counts(normalize=True) * 100\n",
    "\n",
    "# Combine the two into a single DataFrame for easier plotting.\n",
    "combined_df = pd.DataFrame({\n",
    "    \"Normal English\": normal_counts,\n",
    "    \"Yoda Speech\": yoda_counts\n",
    "}).fillna(0)  # fill missing categories with 0\n",
    "\n",
    "print(combined_df)\n",
    "\n",
    "# Plot the distributions side by side.\n",
    "ax = combined_df.plot(kind=\"bar\", figsize=(10, 6))\n",
    "ax.set_ylabel(\"Percentage (%)\")\n",
    "ax.set_title(\"Word Order Distribution: Normal English vs Yoda Speech\")\n",
    "plt.xticks(rotation=0)\n",
    "plt.legend(title=\"Sentence Type\")\n",
    "plt.show()"
   ]
  },
  {
   "cell_type": "code",
   "execution_count": 26,
   "metadata": {},
   "outputs": [
    {
     "data": {
      "image/png": "[encoded data removed]",
      "text/plain": [
       "<Figure size 1000x800 with 1 Axes>"
      ]
     },
     "metadata": {},
     "output_type": "display_data"
    }
   ],
   "source": [
    "# Compute percentage distributions\n",
    "normal_counts = word_order_df[\"normal_word_order\"].value_counts(normalize=True) * 100\n",
    "yoda_counts   = word_order_df[\"yoda_word_order\"].value_counts(normalize=True) * 100\n",
    "\n",
    "# Combine the distributions\n",
    "combined_df = pd.DataFrame({\n",
    "    \"Normal English\": normal_counts,\n",
    "    \"Yoda Speech\": yoda_counts\n",
    "}).fillna(0)\n",
    "\n",
    "# Aggregate low-frequency categories: set a threshold (e.g., below 5%)\n",
    "threshold = 5\n",
    "def aggregate_low_freq(series, thresh):\n",
    "    # Separate high frequency and low frequency categories.\n",
    "    high = series[series >= thresh]\n",
    "    low = series[series < thresh]\n",
    "    if not low.empty:\n",
    "        high[\"Other\"] = low.sum()\n",
    "    return high\n",
    "\n",
    "agg_normal = aggregate_low_freq(combined_df[\"Normal English\"], threshold)\n",
    "agg_yoda   = aggregate_low_freq(combined_df[\"Yoda Speech\"], threshold)\n",
    "\n",
    "# Align indices of both series for combined plotting\n",
    "combined_agg = pd.DataFrame({\n",
    "    \"Normal English\": agg_normal,\n",
    "    \"Yoda Speech\": agg_yoda\n",
    "}).fillna(0)\n",
    "\n",
    "# Sort by total frequency\n",
    "combined_agg[\"Total\"] = combined_agg[\"Normal English\"] + combined_agg[\"Yoda Speech\"]\n",
    "combined_agg = combined_agg.sort_values(\"Total\", ascending=False)\n",
    "combined_agg = combined_agg.drop(columns=\"Total\")\n",
    "\n",
    "# Plot horizontal bar chart\n",
    "ax = combined_agg.plot(kind=\"barh\", figsize=(10, 8))\n",
    "ax.set_xlabel(\"Percentage (%)\")\n",
    "ax.set_title(\"Word Order Distribution: Normal English vs Yoda Speech\")\n",
    "plt.legend(title=\"Sentence Type\")\n",
    "plt.show()"
   ]
  }
 ],
 "metadata": {
  "kernelspec": {
   "display_name": "env",
   "language": "python",
   "name": "python3"
  },
  "language_info": {
   "codemirror_mode": {
    "name": "ipython",
    "version": 3
   },
   "file_extension": ".py",
   "mimetype": "text/x-python",
   "name": "python",
   "nbconvert_exporter": "python",
   "pygments_lexer": "ipython3",
   "version": "3.12.4"
  }
 },
 "nbformat": 4,
 "nbformat_minor": 2
}
