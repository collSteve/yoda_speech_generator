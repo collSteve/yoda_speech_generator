{
 "cells": [
  {
   "cell_type": "markdown",
   "metadata": {},
   "source": [
    "# Part 1: Analysis"
   ]
  },
  {
   "cell_type": "code",
   "execution_count": 1,
   "metadata": {},
   "outputs": [],
   "source": [
    "import pandas as pd\n",
    "import spacy\n",
    "import matplotlib.pyplot as plt"
   ]
  },
  {
   "cell_type": "code",
   "execution_count": 2,
   "metadata": {},
   "outputs": [],
   "source": [
    "# english model\n",
    "nlp = spacy.load(\"en_core_web_sm\")"
   ]
  },
  {
   "cell_type": "markdown",
   "metadata": {},
   "source": [
    "### Data cleaning"
   ]
  },
  {
   "cell_type": "code",
   "execution_count": 3,
   "metadata": {},
   "outputs": [],
   "source": [
    "from data_process import extract_yoda_lines, clean_text\n",
    "import re"
   ]
  },
  {
   "cell_type": "code",
   "execution_count": 4,
   "metadata": {},
   "outputs": [
    {
     "name": "stdout",
     "output_type": "stream",
     "text": [
      "Raw rows: 100\n"
     ]
    }
   ],
   "source": [
    "yoda_raw = extract_yoda_lines('data/yoda-corpus.csv')\n",
    "yoda_raw_df = pd.DataFrame(yoda_raw)\n",
    "print(f\"Raw rows: {len(yoda_raw_df):,}\")"
   ]
  },
  {
   "cell_type": "code",
   "execution_count": 5,
   "metadata": {},
   "outputs": [
    {
     "name": "stdout",
     "output_type": "stream",
     "text": [
      "After dropping nulls & duplicates: 99\n"
     ]
    }
   ],
   "source": [
    "yoda_df = yoda_raw_df.dropna(subset=[\"text\"]).drop_duplicates(subset=[\"text\"]).reset_index(drop=True)\n",
    "print(f\"After dropping nulls & duplicates: {len(yoda_df):,}\")"
   ]
  },
  {
   "cell_type": "code",
   "execution_count": 7,
   "metadata": {},
   "outputs": [
    {
     "name": "stdout",
     "output_type": "stream",
     "text": [
      "After cleaning & filtering short lines: 98\n"
     ]
    }
   ],
   "source": [
    "# data cleaning\n",
    "\n",
    "yoda_df[\"clean\"] = yoda_df[\"text\"].apply(clean_text)\n",
    "\n",
    "yoda_df[\"token_count\"] = yoda_df[\"clean\"].str.split().apply(len)\n",
    "yoda_df = yoda_df[yoda_df[\"token_count\"] >= 2].reset_index(drop=True)\n",
    "print(f\"After cleaning & filtering short lines: {len(yoda_df):,}\")\n"
   ]
  },
  {
   "cell_type": "code",
   "execution_count": 8,
   "metadata": {},
   "outputs": [
    {
     "data": {
      "text/html": [
       "<div>\n",
       "<style scoped>\n",
       "    .dataframe tbody tr th:only-of-type {\n",
       "        vertical-align: middle;\n",
       "    }\n",
       "\n",
       "    .dataframe tbody tr th {\n",
       "        vertical-align: top;\n",
       "    }\n",
       "\n",
       "    .dataframe thead th {\n",
       "        text-align: right;\n",
       "    }\n",
       "</style>\n",
       "<table border=\"1\" class=\"dataframe\">\n",
       "  <thead>\n",
       "    <tr style=\"text-align: right;\">\n",
       "      <th></th>\n",
       "      <th>text</th>\n",
       "      <th>clean</th>\n",
       "    </tr>\n",
       "  </thead>\n",
       "  <tbody>\n",
       "    <tr>\n",
       "      <th>57</th>\n",
       "      <td>Dismantle the coded signal quickly. That grou...</td>\n",
       "      <td>dismantle the coded signal quickly. that group...</td>\n",
       "    </tr>\n",
       "    <tr>\n",
       "      <th>2</th>\n",
       "      <td>With this Naboo queen you must stay, Qui-Gon. ...</td>\n",
       "      <td>with this naboo queen you must stay, qui-gon. ...</td>\n",
       "    </tr>\n",
       "    <tr>\n",
       "      <th>24</th>\n",
       "      <td>Confer on you, the level of Jedi Knight the Co...</td>\n",
       "      <td>confer on you, the level of jedi knight the co...</td>\n",
       "    </tr>\n",
       "    <tr>\n",
       "      <th>10</th>\n",
       "      <td>Afraid are you?</td>\n",
       "      <td>afraid are you?</td>\n",
       "    </tr>\n",
       "    <tr>\n",
       "      <th>27</th>\n",
       "      <td>Always two there are....no more...no less. A m...</td>\n",
       "      <td>always two there are....no more...no less. a m...</td>\n",
       "    </tr>\n",
       "  </tbody>\n",
       "</table>\n",
       "</div>"
      ],
      "text/plain": [
       "                                                 text  \\\n",
       "57   Dismantle the coded signal quickly. That grou...   \n",
       "2   With this Naboo queen you must stay, Qui-Gon. ...   \n",
       "24  Confer on you, the level of Jedi Knight the Co...   \n",
       "10                                    Afraid are you?   \n",
       "27  Always two there are....no more...no less. A m...   \n",
       "\n",
       "                                                clean  \n",
       "57  dismantle the coded signal quickly. that group...  \n",
       "2   with this naboo queen you must stay, qui-gon. ...  \n",
       "24  confer on you, the level of jedi knight the co...  \n",
       "10                                    afraid are you?  \n",
       "27  always two there are....no more...no less. a m...  "
      ]
     },
     "metadata": {},
     "output_type": "display_data"
    }
   ],
   "source": [
    "# Quick sanity check: sample few cleaned lines\n",
    "display(yoda_df.sample(5)[[\"text\",\"clean\"]])"
   ]
  },
  {
   "cell_type": "code",
   "execution_count": null,
   "metadata": {},
   "outputs": [],
   "source": [
    "# Save cleaned version for reuse\n",
    "# yoda_df.to_csv(\"data/yoda_clean.csv\", index=False)"
   ]
  }
 ],
 "metadata": {
  "kernelspec": {
   "display_name": "env",
   "language": "python",
   "name": "python3"
  },
  "language_info": {
   "codemirror_mode": {
    "name": "ipython",
    "version": 3
   },
   "file_extension": ".py",
   "mimetype": "text/x-python",
   "name": "python",
   "nbconvert_exporter": "python",
   "pygments_lexer": "ipython3",
   "version": "3.12.4"
  }
 },
 "nbformat": 4,
 "nbformat_minor": 2
}
