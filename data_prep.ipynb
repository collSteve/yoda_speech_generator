{
 "cells": [
  {
   "cell_type": "markdown",
   "metadata": {},
   "source": [
    "# Part 1: Data Preparation"
   ]
  },
  {
   "cell_type": "code",
   "execution_count": 1,
   "metadata": {},
   "outputs": [],
   "source": [
    "import pandas as pd\n",
    "import spacy\n",
    "import matplotlib.pyplot as plt"
   ]
  },
  {
   "cell_type": "code",
   "execution_count": 2,
   "metadata": {},
   "outputs": [],
   "source": [
    "# english model\n",
    "nlp = spacy.load(\"en_core_web_sm\")"
   ]
  },
  {
   "cell_type": "markdown",
   "metadata": {},
   "source": [
    "### Data cleaning"
   ]
  },
  {
   "cell_type": "code",
   "execution_count": 3,
   "metadata": {},
   "outputs": [],
   "source": [
    "from data_process import extract_yoda_lines, clean_text\n",
    "import re"
   ]
  },
  {
   "cell_type": "code",
   "execution_count": 4,
   "metadata": {},
   "outputs": [
    {
     "name": "stdout",
     "output_type": "stream",
     "text": [
      "Raw rows: 100\n"
     ]
    }
   ],
   "source": [
    "yoda_raw = extract_yoda_lines('data/yoda-corpus.csv')\n",
    "yoda_raw_df = pd.DataFrame(yoda_raw)\n",
    "print(f\"Raw rows: {len(yoda_raw_df):,}\")"
   ]
  },
  {
   "cell_type": "code",
   "execution_count": 5,
   "metadata": {},
   "outputs": [
    {
     "name": "stdout",
     "output_type": "stream",
     "text": [
      "After dropping nulls & duplicates: 99\n"
     ]
    }
   ],
   "source": [
    "yoda_df = yoda_raw_df.dropna(subset=[\"text\"]).drop_duplicates(subset=[\"text\"]).reset_index(drop=True)\n",
    "print(f\"After dropping nulls & duplicates: {len(yoda_df):,}\")"
   ]
  },
  {
   "cell_type": "code",
   "execution_count": 6,
   "metadata": {},
   "outputs": [
    {
     "name": "stdout",
     "output_type": "stream",
     "text": [
      "After cleaning & filtering short lines: 98\n"
     ]
    }
   ],
   "source": [
    "# data cleaning\n",
    "\n",
    "yoda_df[\"clean\"] = yoda_df[\"text\"].apply(clean_text)\n",
    "\n",
    "yoda_df[\"token_count\"] = yoda_df[\"clean\"].str.split().apply(len)\n",
    "yoda_df = yoda_df[yoda_df[\"token_count\"] >= 2].reset_index(drop=True)\n",
    "print(f\"After cleaning & filtering short lines: {len(yoda_df):,}\")\n"
   ]
  },
  {
   "cell_type": "code",
   "execution_count": 7,
   "metadata": {},
   "outputs": [
    {
     "data": {
      "text/html": [
       "<div>\n",
       "<style scoped>\n",
       "    .dataframe tbody tr th:only-of-type {\n",
       "        vertical-align: middle;\n",
       "    }\n",
       "\n",
       "    .dataframe tbody tr th {\n",
       "        vertical-align: top;\n",
       "    }\n",
       "\n",
       "    .dataframe thead th {\n",
       "        text-align: right;\n",
       "    }\n",
       "</style>\n",
       "<table border=\"1\" class=\"dataframe\">\n",
       "  <thead>\n",
       "    <tr style=\"text-align: right;\">\n",
       "      <th></th>\n",
       "      <th>text</th>\n",
       "      <th>clean</th>\n",
       "    </tr>\n",
       "  </thead>\n",
       "  <tbody>\n",
       "    <tr>\n",
       "      <th>39</th>\n",
       "      <td>A prophecy . . . that misread could have been.</td>\n",
       "      <td>a prophecy . . . that misread could have been.</td>\n",
       "    </tr>\n",
       "    <tr>\n",
       "      <th>28</th>\n",
       "      <td>Premonitions . . . premonitions . . . Hmmmm ....</td>\n",
       "      <td>premonitions . . . premonitions . . . hmmmm . ...</td>\n",
       "    </tr>\n",
       "    <tr>\n",
       "      <th>87</th>\n",
       "      <td>How to join the Force, he will train you. You...</td>\n",
       "      <td>how to join the force, he will train you. your...</td>\n",
       "    </tr>\n",
       "    <tr>\n",
       "      <th>33</th>\n",
       "      <td>Train yourself to let go of everything you fe...</td>\n",
       "      <td>train yourself to let go of everything you fea...</td>\n",
       "    </tr>\n",
       "    <tr>\n",
       "      <th>70</th>\n",
       "      <td>Faith in your new apprentice, misplaced may b...</td>\n",
       "      <td>faith in your new apprentice, misplaced may be...</td>\n",
       "    </tr>\n",
       "  </tbody>\n",
       "</table>\n",
       "</div>"
      ],
      "text/plain": [
       "                                                 text  \\\n",
       "39     A prophecy . . . that misread could have been.   \n",
       "28   Premonitions . . . premonitions . . . Hmmmm ....   \n",
       "87   How to join the Force, he will train you. You...   \n",
       "33   Train yourself to let go of everything you fe...   \n",
       "70   Faith in your new apprentice, misplaced may b...   \n",
       "\n",
       "                                                clean  \n",
       "39     a prophecy . . . that misread could have been.  \n",
       "28  premonitions . . . premonitions . . . hmmmm . ...  \n",
       "87  how to join the force, he will train you. your...  \n",
       "33  train yourself to let go of everything you fea...  \n",
       "70  faith in your new apprentice, misplaced may be...  "
      ]
     },
     "metadata": {},
     "output_type": "display_data"
    }
   ],
   "source": [
    "# Quick sanity check: sample few cleaned lines\n",
    "display(yoda_df.sample(5)[[\"text\",\"clean\"]])"
   ]
  },
  {
   "cell_type": "code",
   "execution_count": 8,
   "metadata": {},
   "outputs": [],
   "source": [
    "# Save cleaned version for reuse\n",
    "# yoda_df.to_csv(\"data/yoda_clean.csv\", index=False)"
   ]
  },
  {
   "cell_type": "markdown",
   "metadata": {},
   "source": [
    "## Generate Normal English for Yoda speech"
   ]
  },
  {
   "cell_type": "code",
   "execution_count": 9,
   "metadata": {},
   "outputs": [],
   "source": [
    "from chat_gpt_call import generate_normal_english_and_mapping\n",
    "import asyncio"
   ]
  },
  {
   "cell_type": "code",
   "execution_count": 10,
   "metadata": {},
   "outputs": [],
   "source": [
    "progress_counter = 0\n",
    "progress_lock = asyncio.Lock()\n",
    "\n",
    "async def generate_with_progress(yoda_sentence: str, idx: int, total: int):\n",
    "    \"\"\"\n",
    "    Wrapper around generate_normal_english_and_mapping that prints progress.\n",
    "    \"\"\"\n",
    "    global progress_counter\n",
    "    try:\n",
    "        result = await generate_normal_english_and_mapping(yoda_sentence)\n",
    "    except Exception as e:\n",
    "        result = e\n",
    "    async with progress_lock:\n",
    "        progress_counter += 1\n",
    "        print(f\"Processed {progress_counter}/{total} sentences (Task {idx})\", end=\"\\r\")\n",
    "    return result"
   ]
  },
  {
   "cell_type": "code",
   "execution_count": 11,
   "metadata": {},
   "outputs": [],
   "source": [
    "async def process_all_yoda_sentences(yoda_df: pd.DataFrame) -> pd.DataFrame:\n",
    "    tasks = []\n",
    "    total = len(yoda_df)\n",
    "    \n",
    "    # Create a list of tasks with progress wrapper\n",
    "    for idx, row in yoda_df.iterrows():\n",
    "        yoda_sentence = row[\"text\"]\n",
    "        tasks.append(generate_with_progress(yoda_sentence, idx, total))\n",
    "    \n",
    "    # Run all tasks concurrently; capture exceptions by setting return_exceptions=True\n",
    "    responses = await asyncio.gather(*tasks, return_exceptions=True)\n",
    "    \n",
    "    results = []\n",
    "    for idx, res in enumerate(responses):\n",
    "        yoda_sentence = yoda_df.iloc[idx][\"text\"]\n",
    "        if isinstance(res, Exception):\n",
    "            print(f\"\\nError processing row {idx}: {res}\")\n",
    "            results.append({\n",
    "                \"original\": yoda_sentence,\n",
    "                \"normal_english\": None,\n",
    "                \"mapping\": None\n",
    "            })\n",
    "        else:\n",
    "            results.append({\n",
    "                \"original\": yoda_sentence,\n",
    "                \"normal_english\": res.normal_english,\n",
    "                \"mapping\": res.mapping\n",
    "            })\n",
    "    \n",
    "    return pd.DataFrame(results)"
   ]
  },
  {
   "cell_type": "code",
   "execution_count": 15,
   "metadata": {},
   "outputs": [
    {
     "name": "stdout",
     "output_type": "stream",
     "text": [
      "Processed 50/20 sentences (Task 14)\r"
     ]
    }
   ],
   "source": [
    "# loop = asyncio.get_event_loop()\n",
    "# normalized_df = loop.run_until_complete(process_all_yoda_sentences(yoda_df))\n",
    "\n",
    "final_df1 = await process_all_yoda_sentences(yoda_df[:20])"
   ]
  },
  {
   "cell_type": "code",
   "execution_count": 14,
   "metadata": {},
   "outputs": [
    {
     "name": "stdout",
     "output_type": "stream",
     "text": [
      "Processed 30/20 sentences (Task 23)\r"
     ]
    }
   ],
   "source": [
    "final_df2 = await process_all_yoda_sentences(yoda_df[20:40])"
   ]
  },
  {
   "cell_type": "code",
   "execution_count": 16,
   "metadata": {},
   "outputs": [
    {
     "name": "stdout",
     "output_type": "stream",
     "text": [
      "Processed 70/20 sentences (Task 59)\r"
     ]
    }
   ],
   "source": [
    "final_df3 = await process_all_yoda_sentences(yoda_df[40:60])\n"
   ]
  },
  {
   "cell_type": "code",
   "execution_count": 17,
   "metadata": {},
   "outputs": [
    {
     "name": "stdout",
     "output_type": "stream",
     "text": [
      "Processed 90/20 sentences (Task 70)\r"
     ]
    }
   ],
   "source": [
    "final_df4 = await process_all_yoda_sentences(yoda_df[60:80])\n"
   ]
  },
  {
   "cell_type": "code",
   "execution_count": 18,
   "metadata": {},
   "outputs": [
    {
     "name": "stdout",
     "output_type": "stream",
     "text": [
      "Processed 108/18 sentences (Task 82)\r"
     ]
    }
   ],
   "source": [
    "final_df5 = await process_all_yoda_sentences(yoda_df[80:])"
   ]
  },
  {
   "cell_type": "code",
   "execution_count": 19,
   "metadata": {},
   "outputs": [],
   "source": [
    "final_df = pd.concat([final_df1, final_df2, final_df3, final_df4, final_df5], ignore_index=True)"
   ]
  },
  {
   "cell_type": "code",
   "execution_count": 20,
   "metadata": {},
   "outputs": [
    {
     "name": "stdout",
     "output_type": "stream",
     "text": [
      "Final rows: 98\n"
     ]
    },
    {
     "data": {
      "text/html": [
       "<div>\n",
       "<style scoped>\n",
       "    .dataframe tbody tr th:only-of-type {\n",
       "        vertical-align: middle;\n",
       "    }\n",
       "\n",
       "    .dataframe tbody tr th {\n",
       "        vertical-align: top;\n",
       "    }\n",
       "\n",
       "    .dataframe thead th {\n",
       "        text-align: right;\n",
       "    }\n",
       "</style>\n",
       "<table border=\"1\" class=\"dataframe\">\n",
       "  <thead>\n",
       "    <tr style=\"text-align: right;\">\n",
       "      <th></th>\n",
       "      <th>original</th>\n",
       "      <th>normal_english</th>\n",
       "      <th>mapping</th>\n",
       "    </tr>\n",
       "  </thead>\n",
       "  <tbody>\n",
       "    <tr>\n",
       "      <th>37</th>\n",
       "      <td>Go, I will. Good relations with the Wookiees,...</td>\n",
       "      <td>I will go. I have good relations with the Wook...</td>\n",
       "      <td>[1, 2, 0, 8, 9, 3, 4, 5, 6, 7]</td>\n",
       "    </tr>\n",
       "    <tr>\n",
       "      <th>71</th>\n",
       "      <td>Destroy you I will, just as Master Kenobi, yo...</td>\n",
       "      <td>I will destroy you, just as your apprentice wi...</td>\n",
       "      <td>[2, 3, 0, 1, 4, 5, 8, 9, 10, 11, 6, 7]</td>\n",
       "    </tr>\n",
       "    <tr>\n",
       "      <th>62</th>\n",
       "      <td>To fight this Lord Sidious, strong enough, yo...</td>\n",
       "      <td>You are not strong enough to fight this Lord S...</td>\n",
       "      <td>[7, 8, 9, 5, 6, 0, 1, 2, 3, 4]</td>\n",
       "    </tr>\n",
       "    <tr>\n",
       "      <th>96</th>\n",
       "      <td>Remember, a Jedi's strength flows from the For...</td>\n",
       "      <td>Remember, a Jedi's strength flows from the For...</td>\n",
       "      <td>[0, 1, 2, 3, 4, 5, 6, 7, 8, 10, 9]</td>\n",
       "    </tr>\n",
       "    <tr>\n",
       "      <th>11</th>\n",
       "      <td>See through you, we can.</td>\n",
       "      <td>We can see through you.</td>\n",
       "      <td>[3, 4, 0, 1, 2]</td>\n",
       "    </tr>\n",
       "  </tbody>\n",
       "</table>\n",
       "</div>"
      ],
      "text/plain": [
       "                                             original  \\\n",
       "37   Go, I will. Good relations with the Wookiees,...   \n",
       "71   Destroy you I will, just as Master Kenobi, yo...   \n",
       "62   To fight this Lord Sidious, strong enough, yo...   \n",
       "96  Remember, a Jedi's strength flows from the For...   \n",
       "11                           See through you, we can.   \n",
       "\n",
       "                                       normal_english  \\\n",
       "37  I will go. I have good relations with the Wook...   \n",
       "71  I will destroy you, just as your apprentice wi...   \n",
       "62  You are not strong enough to fight this Lord S...   \n",
       "96  Remember, a Jedi's strength flows from the For...   \n",
       "11                            We can see through you.   \n",
       "\n",
       "                                   mapping  \n",
       "37          [1, 2, 0, 8, 9, 3, 4, 5, 6, 7]  \n",
       "71  [2, 3, 0, 1, 4, 5, 8, 9, 10, 11, 6, 7]  \n",
       "62          [7, 8, 9, 5, 6, 0, 1, 2, 3, 4]  \n",
       "96      [0, 1, 2, 3, 4, 5, 6, 7, 8, 10, 9]  \n",
       "11                         [3, 4, 0, 1, 2]  "
      ]
     },
     "metadata": {},
     "output_type": "display_data"
    }
   ],
   "source": [
    "print(f\"Final rows: {len(final_df):,}\")\n",
    "\n",
    "display(final_df.sample(5))"
   ]
  },
  {
   "cell_type": "code",
   "execution_count": 41,
   "metadata": {},
   "outputs": [
    {
     "name": "stdout",
     "output_type": "stream",
     "text": [
      "Row with max length:  Death is a natural part of life. Rejoice for those around you who transform into the Force. Mourn them, do not. Miss them, do not. Attachment leads to jealousy. The shadow of greed, that is.\n"
     ]
    },
    {
     "ename": "AttributeError",
     "evalue": "'str' object has no attribute 'str'",
     "output_type": "error",
     "traceback": [
      "\u001b[31m---------------------------------------------------------------------------\u001b[39m",
      "\u001b[31mAttributeError\u001b[39m                            Traceback (most recent call last)",
      "\u001b[36mCell\u001b[39m\u001b[36m \u001b[39m\u001b[32mIn[41]\u001b[39m\u001b[32m, line 7\u001b[39m\n\u001b[32m      5\u001b[39m max_row = yoda_df.iloc[max_index]\n\u001b[32m      6\u001b[39m \u001b[38;5;28mprint\u001b[39m(\u001b[33mf\u001b[39m\u001b[33m\"\u001b[39m\u001b[33mRow with max length: \u001b[39m\u001b[38;5;132;01m{\u001b[39;00mmax_row[\u001b[33m'\u001b[39m\u001b[33mtext\u001b[39m\u001b[33m'\u001b[39m]\u001b[38;5;132;01m}\u001b[39;00m\u001b[33m\"\u001b[39m)\n\u001b[32m----> \u001b[39m\u001b[32m7\u001b[39m \u001b[38;5;28mprint\u001b[39m(\u001b[33mf\u001b[39m\u001b[33m\"\u001b[39m\u001b[33mMax length of text: \u001b[39m\u001b[38;5;132;01m{\u001b[39;00m\u001b[43mmax_row\u001b[49m\u001b[43m[\u001b[49m\u001b[33;43m'\u001b[39;49m\u001b[33;43mtext\u001b[39;49m\u001b[33;43m'\u001b[39;49m\u001b[43m]\u001b[49m\u001b[43m.\u001b[49m\u001b[43mstr\u001b[49m.len()\u001b[38;5;132;01m}\u001b[39;00m\u001b[33m\"\u001b[39m)\n\u001b[32m      8\u001b[39m max_len = yoda_df[\u001b[33m\"\u001b[39m\u001b[33mtext\u001b[39m\u001b[33m\"\u001b[39m].str.len().max()\n\u001b[32m      9\u001b[39m \u001b[38;5;28mprint\u001b[39m(\u001b[33mf\u001b[39m\u001b[33m\"\u001b[39m\u001b[33mMax length of text: \u001b[39m\u001b[38;5;132;01m{\u001b[39;00mmax_len\u001b[38;5;132;01m}\u001b[39;00m\u001b[33m\"\u001b[39m)\n",
      "\u001b[31mAttributeError\u001b[39m: 'str' object has no attribute 'str'"
     ]
    }
   ],
   "source": [
    "yoda_df.iloc[12][\"text\"]\n",
    "\n",
    "# find the max length of text and which row it is\n",
    "max_index = yoda_df[\"text\"].str.len().idxmax()\n",
    "max_row = yoda_df.iloc[max_index]\n",
    "print(f\"Row with max length: {max_row['text']}\")\n",
    "print(f\"Max length of text: {max_row['text'].str.len()}\")\n",
    "max_len = yoda_df[\"text\"].str.len().max()\n",
    "print(f\"Max length of text: {max_len}\")"
   ]
  },
  {
   "cell_type": "markdown",
   "metadata": {},
   "source": [
    "# Save the Yoda speech to a file"
   ]
  },
  {
   "cell_type": "code",
   "execution_count": 23,
   "metadata": {},
   "outputs": [],
   "source": [
    "import json"
   ]
  },
  {
   "cell_type": "code",
   "execution_count": 25,
   "metadata": {},
   "outputs": [],
   "source": [
    "df_to_save = final_df.copy()\n",
    "df_to_save['mapping'] = df_to_save['mapping'].apply(json.dumps)\n",
    "\n",
    "df_to_save.to_csv(\"data/yoda_normalized.csv\", index=False)"
   ]
  },
  {
   "cell_type": "code",
   "execution_count": null,
   "metadata": {},
   "outputs": [],
   "source": []
  },
  {
   "cell_type": "code",
   "execution_count": 26,
   "metadata": {},
   "outputs": [],
   "source": [
    "# to load:"
   ]
  },
  {
   "cell_type": "code",
   "execution_count": null,
   "metadata": {},
   "outputs": [],
   "source": [
    "import pandas as pd\n",
    "import json\n",
    "\n",
    "df_loaded = pd.read_csv(\"data/yoda_normalized.csv\")\n",
    "\n",
    "df_loaded['mapping'] = df_loaded['mapping'].apply(json.loads)"
   ]
  },
  {
   "cell_type": "markdown",
   "metadata": {},
   "source": [
    "# Data Cleaning for Sentences"
   ]
  },
  {
   "cell_type": "code",
   "execution_count": 21,
   "metadata": {},
   "outputs": [],
   "source": [
    "import pandas as pd\n",
    "import spacy\n",
    "import matplotlib.pyplot as plt\n",
    "\n",
    "# english model\n",
    "nlp = spacy.load(\"en_core_web_sm\")\n",
    "\n",
    "from data_process import extract_yoda_lines, clean_text\n",
    "import re"
   ]
  },
  {
   "cell_type": "code",
   "execution_count": 27,
   "metadata": {},
   "outputs": [
    {
     "name": "stdout",
     "output_type": "stream",
     "text": [
      "Raw rows: 100\n",
      "After dropping nulls & duplicates: 99\n"
     ]
    }
   ],
   "source": [
    "yoda_raw = extract_yoda_lines('data/yoda-corpus.csv')\n",
    "yoda_raw_df = pd.DataFrame(yoda_raw)\n",
    "print(f\"Raw rows: {len(yoda_raw_df):,}\")\n",
    "\n",
    "yoda_df = yoda_raw_df.dropna(subset=[\"text\"]).drop_duplicates(subset=[\"text\"]).reset_index(drop=True)\n",
    "print(f\"After dropping nulls & duplicates: {len(yoda_df):,}\")"
   ]
  },
  {
   "cell_type": "code",
   "execution_count": 23,
   "metadata": {},
   "outputs": [],
   "source": [
    "from data_process import split_into_sentences"
   ]
  },
  {
   "cell_type": "code",
   "execution_count": 28,
   "metadata": {},
   "outputs": [],
   "source": [
    "yoda_df[\"clean\"] = yoda_df[\"text\"].apply(clean_text)\n",
    "\n",
    "yoda_df[\"raw_sentences\"] = yoda_df[\"clean\"].apply(split_into_sentences)\n",
    "\n",
    "yoda_sent_df = yoda_df.explode(\"raw_sentences\").reset_index(drop=True)\n",
    "\n",
    "yoda_sent_df[\"token_count\"] = yoda_sent_df[\"raw_sentences\"].str.split().apply(len)\n",
    "yoda_sent_df = yoda_sent_df[yoda_sent_df[\"token_count\"] >= 2].reset_index(drop=True)\n",
    "\n",
    "yoda_sent_df[\"sentences\"] = yoda_sent_df[\"raw_sentences\"].apply(clean_text)\n",
    "\n",
    "yoda_sent_df.rename(columns={\"sentences\": \"sentence\"}, inplace=True)"
   ]
  },
  {
   "cell_type": "code",
   "execution_count": 29,
   "metadata": {},
   "outputs": [
    {
     "name": "stdout",
     "output_type": "stream",
     "text": [
      "After splitting into sentences: 178\n"
     ]
    },
    {
     "data": {
      "text/html": [
       "<div>\n",
       "<style scoped>\n",
       "    .dataframe tbody tr th:only-of-type {\n",
       "        vertical-align: middle;\n",
       "    }\n",
       "\n",
       "    .dataframe tbody tr th {\n",
       "        vertical-align: top;\n",
       "    }\n",
       "\n",
       "    .dataframe thead th {\n",
       "        text-align: right;\n",
       "    }\n",
       "</style>\n",
       "<table border=\"1\" class=\"dataframe\">\n",
       "  <thead>\n",
       "    <tr style=\"text-align: right;\">\n",
       "      <th></th>\n",
       "      <th>movie</th>\n",
       "      <th>scene</th>\n",
       "      <th>line</th>\n",
       "      <th>character</th>\n",
       "      <th>text</th>\n",
       "      <th>slug</th>\n",
       "      <th>component</th>\n",
       "      <th>clean</th>\n",
       "      <th>raw_sentences</th>\n",
       "      <th>token_count</th>\n",
       "      <th>sentence</th>\n",
       "    </tr>\n",
       "  </thead>\n",
       "  <tbody>\n",
       "    <tr>\n",
       "      <th>0</th>\n",
       "      <td>1</td>\n",
       "      <td>129</td>\n",
       "      <td>1162</td>\n",
       "      <td>YODA</td>\n",
       "      <td>The very Republic is threatened, if involved t...</td>\n",
       "      <td>INT. TEMPLE OF THE JEDI - COUNCIL CHAMBERS - DAY</td>\n",
       "      <td>character</td>\n",
       "      <td>the very republic is threatened, if involved t...</td>\n",
       "      <td>the very republic is threatened, if involved t...</td>\n",
       "      <td>10</td>\n",
       "      <td>the very republic is threatened, if involved t...</td>\n",
       "    </tr>\n",
       "    <tr>\n",
       "      <th>1</th>\n",
       "      <td>1</td>\n",
       "      <td>129</td>\n",
       "      <td>1164</td>\n",
       "      <td>YODA</td>\n",
       "      <td>Hard to see, the dark side is. Discover who th...</td>\n",
       "      <td>INT. TEMPLE OF THE JEDI - COUNCIL CHAMBERS - DAY</td>\n",
       "      <td>character</td>\n",
       "      <td>hard to see, the dark side is. discover who th...</td>\n",
       "      <td>hard to see, the dark side is.</td>\n",
       "      <td>7</td>\n",
       "      <td>hard to see, the dark side is.</td>\n",
       "    </tr>\n",
       "    <tr>\n",
       "      <th>2</th>\n",
       "      <td>1</td>\n",
       "      <td>129</td>\n",
       "      <td>1164</td>\n",
       "      <td>YODA</td>\n",
       "      <td>Hard to see, the dark side is. Discover who th...</td>\n",
       "      <td>INT. TEMPLE OF THE JEDI - COUNCIL CHAMBERS - DAY</td>\n",
       "      <td>character</td>\n",
       "      <td>hard to see, the dark side is. discover who th...</td>\n",
       "      <td>discover who this assassin is, we must.</td>\n",
       "      <td>7</td>\n",
       "      <td>discover who this assassin is, we must.</td>\n",
       "    </tr>\n",
       "    <tr>\n",
       "      <th>3</th>\n",
       "      <td>1</td>\n",
       "      <td>129</td>\n",
       "      <td>1167</td>\n",
       "      <td>YODA</td>\n",
       "      <td>With this Naboo queen you must stay, Qui-Gon. ...</td>\n",
       "      <td>INT. TEMPLE OF THE JEDI - COUNCIL CHAMBERS - DAY</td>\n",
       "      <td>character</td>\n",
       "      <td>with this naboo queen you must stay, qui-gon. ...</td>\n",
       "      <td>with this naboo queen you must stay, qui-gon.</td>\n",
       "      <td>8</td>\n",
       "      <td>with this naboo queen you must stay, qui-gon.</td>\n",
       "    </tr>\n",
       "    <tr>\n",
       "      <th>4</th>\n",
       "      <td>1</td>\n",
       "      <td>129</td>\n",
       "      <td>1167</td>\n",
       "      <td>YODA</td>\n",
       "      <td>With this Naboo queen you must stay, Qui-Gon. ...</td>\n",
       "      <td>INT. TEMPLE OF THE JEDI - COUNCIL CHAMBERS - DAY</td>\n",
       "      <td>character</td>\n",
       "      <td>with this naboo queen you must stay, qui-gon. ...</td>\n",
       "      <td>protect her.</td>\n",
       "      <td>2</td>\n",
       "      <td>protect her.</td>\n",
       "    </tr>\n",
       "    <tr>\n",
       "      <th>...</th>\n",
       "      <td>...</td>\n",
       "      <td>...</td>\n",
       "      <td>...</td>\n",
       "      <td>...</td>\n",
       "      <td>...</td>\n",
       "      <td>...</td>\n",
       "      <td>...</td>\n",
       "      <td>...</td>\n",
       "      <td>...</td>\n",
       "      <td>...</td>\n",
       "      <td>...</td>\n",
       "    </tr>\n",
       "    <tr>\n",
       "      <th>173</th>\n",
       "      <td>6</td>\n",
       "      <td>48</td>\n",
       "      <td>365</td>\n",
       "      <td>YODA</td>\n",
       "      <td>Told you, did he?</td>\n",
       "      <td>50   INT YODA'S HOUSE</td>\n",
       "      <td>character</td>\n",
       "      <td>told you, did he?</td>\n",
       "      <td>told you, did he?</td>\n",
       "      <td>4</td>\n",
       "      <td>told you, did he?</td>\n",
       "    </tr>\n",
       "    <tr>\n",
       "      <th>174</th>\n",
       "      <td>6</td>\n",
       "      <td>48</td>\n",
       "      <td>368</td>\n",
       "      <td>YODA</td>\n",
       "      <td>Unexpected this is, and unfortunate...</td>\n",
       "      <td>50   INT YODA'S HOUSE</td>\n",
       "      <td>character</td>\n",
       "      <td>unexpected this is, and unfortunate...</td>\n",
       "      <td>unexpected this is, and unfortunate...</td>\n",
       "      <td>5</td>\n",
       "      <td>unexpected this is, and unfortunate...</td>\n",
       "    </tr>\n",
       "    <tr>\n",
       "      <th>175</th>\n",
       "      <td>6</td>\n",
       "      <td>48</td>\n",
       "      <td>374</td>\n",
       "      <td>YODA</td>\n",
       "      <td>Remember, a Jedi's strength flows from the For...</td>\n",
       "      <td>50   INT YODA'S HOUSE</td>\n",
       "      <td>character</td>\n",
       "      <td>remember, a jedi's strength flows from the for...</td>\n",
       "      <td>remember, a jedi's strength flows from the force.</td>\n",
       "      <td>8</td>\n",
       "      <td>remember, a jedi's strength flows from the force.</td>\n",
       "    </tr>\n",
       "    <tr>\n",
       "      <th>176</th>\n",
       "      <td>6</td>\n",
       "      <td>48</td>\n",
       "      <td>374</td>\n",
       "      <td>YODA</td>\n",
       "      <td>Remember, a Jedi's strength flows from the For...</td>\n",
       "      <td>50   INT YODA'S HOUSE</td>\n",
       "      <td>character</td>\n",
       "      <td>remember, a jedi's strength flows from the for...</td>\n",
       "      <td>but beware, anger.</td>\n",
       "      <td>3</td>\n",
       "      <td>but beware, anger.</td>\n",
       "    </tr>\n",
       "    <tr>\n",
       "      <th>177</th>\n",
       "      <td>6</td>\n",
       "      <td>48</td>\n",
       "      <td>376</td>\n",
       "      <td>YODA</td>\n",
       "      <td>Luke...Luke...Do not...Do not underestimate th...</td>\n",
       "      <td>50   INT YODA'S HOUSE</td>\n",
       "      <td>character</td>\n",
       "      <td>luke...luke...do not...do not underestimate th...</td>\n",
       "      <td>luke...luke...do not...do not underestimate th...</td>\n",
       "      <td>9</td>\n",
       "      <td>luke...luke...do not...do not underestimate th...</td>\n",
       "    </tr>\n",
       "  </tbody>\n",
       "</table>\n",
       "<p>178 rows × 11 columns</p>\n",
       "</div>"
      ],
      "text/plain": [
       "     movie  scene  line character  \\\n",
       "0        1    129  1162      YODA   \n",
       "1        1    129  1164      YODA   \n",
       "2        1    129  1164      YODA   \n",
       "3        1    129  1167      YODA   \n",
       "4        1    129  1167      YODA   \n",
       "..     ...    ...   ...       ...   \n",
       "173      6     48   365      YODA   \n",
       "174      6     48   368      YODA   \n",
       "175      6     48   374      YODA   \n",
       "176      6     48   374      YODA   \n",
       "177      6     48   376      YODA   \n",
       "\n",
       "                                                  text  \\\n",
       "0    The very Republic is threatened, if involved t...   \n",
       "1    Hard to see, the dark side is. Discover who th...   \n",
       "2    Hard to see, the dark side is. Discover who th...   \n",
       "3    With this Naboo queen you must stay, Qui-Gon. ...   \n",
       "4    With this Naboo queen you must stay, Qui-Gon. ...   \n",
       "..                                                 ...   \n",
       "173                                  Told you, did he?   \n",
       "174             Unexpected this is, and unfortunate...   \n",
       "175  Remember, a Jedi's strength flows from the For...   \n",
       "176  Remember, a Jedi's strength flows from the For...   \n",
       "177  Luke...Luke...Do not...Do not underestimate th...   \n",
       "\n",
       "                                                 slug  component  \\\n",
       "0    INT. TEMPLE OF THE JEDI - COUNCIL CHAMBERS - DAY  character   \n",
       "1    INT. TEMPLE OF THE JEDI - COUNCIL CHAMBERS - DAY  character   \n",
       "2    INT. TEMPLE OF THE JEDI - COUNCIL CHAMBERS - DAY  character   \n",
       "3    INT. TEMPLE OF THE JEDI - COUNCIL CHAMBERS - DAY  character   \n",
       "4    INT. TEMPLE OF THE JEDI - COUNCIL CHAMBERS - DAY  character   \n",
       "..                                                ...        ...   \n",
       "173                             50   INT YODA'S HOUSE  character   \n",
       "174                             50   INT YODA'S HOUSE  character   \n",
       "175                             50   INT YODA'S HOUSE  character   \n",
       "176                             50   INT YODA'S HOUSE  character   \n",
       "177                             50   INT YODA'S HOUSE  character   \n",
       "\n",
       "                                                 clean  \\\n",
       "0    the very republic is threatened, if involved t...   \n",
       "1    hard to see, the dark side is. discover who th...   \n",
       "2    hard to see, the dark side is. discover who th...   \n",
       "3    with this naboo queen you must stay, qui-gon. ...   \n",
       "4    with this naboo queen you must stay, qui-gon. ...   \n",
       "..                                                 ...   \n",
       "173                                  told you, did he?   \n",
       "174             unexpected this is, and unfortunate...   \n",
       "175  remember, a jedi's strength flows from the for...   \n",
       "176  remember, a jedi's strength flows from the for...   \n",
       "177  luke...luke...do not...do not underestimate th...   \n",
       "\n",
       "                                         raw_sentences  token_count  \\\n",
       "0    the very republic is threatened, if involved t...           10   \n",
       "1                       hard to see, the dark side is.            7   \n",
       "2              discover who this assassin is, we must.            7   \n",
       "3        with this naboo queen you must stay, qui-gon.            8   \n",
       "4                                         protect her.            2   \n",
       "..                                                 ...          ...   \n",
       "173                                  told you, did he?            4   \n",
       "174             unexpected this is, and unfortunate...            5   \n",
       "175  remember, a jedi's strength flows from the force.            8   \n",
       "176                                 but beware, anger.            3   \n",
       "177  luke...luke...do not...do not underestimate th...            9   \n",
       "\n",
       "                                              sentence  \n",
       "0    the very republic is threatened, if involved t...  \n",
       "1                       hard to see, the dark side is.  \n",
       "2              discover who this assassin is, we must.  \n",
       "3        with this naboo queen you must stay, qui-gon.  \n",
       "4                                         protect her.  \n",
       "..                                                 ...  \n",
       "173                                  told you, did he?  \n",
       "174             unexpected this is, and unfortunate...  \n",
       "175  remember, a jedi's strength flows from the force.  \n",
       "176                                 but beware, anger.  \n",
       "177  luke...luke...do not...do not underestimate th...  \n",
       "\n",
       "[178 rows x 11 columns]"
      ]
     },
     "metadata": {},
     "output_type": "display_data"
    }
   ],
   "source": [
    "print(f\"After splitting into sentences: {len(yoda_sent_df):,}\")\n",
    "\n",
    "display(yoda_sent_df)"
   ]
  },
  {
   "cell_type": "code",
   "execution_count": 30,
   "metadata": {},
   "outputs": [],
   "source": [
    "from chat_gpt_call import generate_normal_english_and_mapping\n",
    "import asyncio"
   ]
  },
  {
   "cell_type": "code",
   "execution_count": 31,
   "metadata": {},
   "outputs": [],
   "source": [
    "progress_counter = 0\n",
    "progress_lock = asyncio.Lock()\n",
    "\n",
    "async def generate_with_progress(yoda_sentence: str, idx: int, total: int):\n",
    "    \"\"\"\n",
    "    Wrapper around generate_normal_english_and_mapping that prints progress.\n",
    "    \"\"\"\n",
    "    global progress_counter\n",
    "    try:\n",
    "        result = await generate_normal_english_and_mapping(yoda_sentence)\n",
    "    except Exception as e:\n",
    "        result = e\n",
    "    async with progress_lock:\n",
    "        progress_counter += 1\n",
    "        print(f\"Processed {progress_counter}/{total} sentences (Task {idx})\", end=\"\\r\")\n",
    "    return result"
   ]
  },
  {
   "cell_type": "code",
   "execution_count": 32,
   "metadata": {},
   "outputs": [],
   "source": [
    "async def process_all_yoda_sentences(yoda_df: pd.DataFrame) -> pd.DataFrame:\n",
    "    tasks = []\n",
    "    total = len(yoda_df)\n",
    "    \n",
    "    # Create a list of tasks with progress wrapper\n",
    "    for idx, row in yoda_df.iterrows():\n",
    "        yoda_sentence = row[\"sentence\"]\n",
    "        tasks.append(generate_with_progress(yoda_sentence, idx, total))\n",
    "    \n",
    "    # Run all tasks concurrently; capture exceptions by setting return_exceptions=True\n",
    "    responses = await asyncio.gather(*tasks, return_exceptions=True)\n",
    "    \n",
    "    results = []\n",
    "    for idx, res in enumerate(responses):\n",
    "        yoda_sentence = yoda_df.iloc[idx][\"sentence\"]\n",
    "        if isinstance(res, Exception):\n",
    "            print(f\"\\nError processing row {idx}: {res}\")\n",
    "            results.append({\n",
    "                \"original\": yoda_sentence,\n",
    "                \"normal_english\": None,\n",
    "                \"mapping\": None\n",
    "            })\n",
    "        else:\n",
    "            results.append({\n",
    "                \"original\": yoda_sentence,\n",
    "                \"normal_english\": res.normal_english,\n",
    "                \"mapping\": res.mapping\n",
    "            })\n",
    "    \n",
    "    return pd.DataFrame(results)"
   ]
  },
  {
   "cell_type": "code",
   "execution_count": 33,
   "metadata": {},
   "outputs": [
    {
     "name": "stdout",
     "output_type": "stream",
     "text": [
      "Processed 178/18 sentences (Task 177)\r"
     ]
    }
   ],
   "source": [
    "final_dfs = []\n",
    "\n",
    "for i in range(0, len(yoda_sent_df), 20):\n",
    "    final_dfs.append(await process_all_yoda_sentences(yoda_sent_df[i:i+20]))"
   ]
  },
  {
   "cell_type": "code",
   "execution_count": 34,
   "metadata": {},
   "outputs": [
    {
     "name": "stdout",
     "output_type": "stream",
     "text": [
      "Final rows: 178\n"
     ]
    },
    {
     "data": {
      "text/html": [
       "<div>\n",
       "<style scoped>\n",
       "    .dataframe tbody tr th:only-of-type {\n",
       "        vertical-align: middle;\n",
       "    }\n",
       "\n",
       "    .dataframe tbody tr th {\n",
       "        vertical-align: top;\n",
       "    }\n",
       "\n",
       "    .dataframe thead th {\n",
       "        text-align: right;\n",
       "    }\n",
       "</style>\n",
       "<table border=\"1\" class=\"dataframe\">\n",
       "  <thead>\n",
       "    <tr style=\"text-align: right;\">\n",
       "      <th></th>\n",
       "      <th>original</th>\n",
       "      <th>normal_english</th>\n",
       "      <th>mapping</th>\n",
       "    </tr>\n",
       "  </thead>\n",
       "  <tbody>\n",
       "    <tr>\n",
       "      <th>104</th>\n",
       "      <td>dismantle the coded signal quickly.</td>\n",
       "      <td>Quickly dismantle the coded signal.</td>\n",
       "      <td>[4, 0, 1, 2, 3]</td>\n",
       "    </tr>\n",
       "    <tr>\n",
       "      <th>81</th>\n",
       "      <td>i agree.</td>\n",
       "      <td>I agree.</td>\n",
       "      <td>[0, 1]</td>\n",
       "    </tr>\n",
       "    <tr>\n",
       "      <th>119</th>\n",
       "      <td>visit the new emperor, my task is.</td>\n",
       "      <td>My task is visit the new emperor.</td>\n",
       "      <td>[4, 5, 6, 0, 1, 2, 3]</td>\n",
       "    </tr>\n",
       "    <tr>\n",
       "      <th>13</th>\n",
       "      <td>how feel you?</td>\n",
       "      <td>You feel how?</td>\n",
       "      <td>[2, 1, 0]</td>\n",
       "    </tr>\n",
       "    <tr>\n",
       "      <th>60</th>\n",
       "      <td>train yourself to let go of everything you fea...</td>\n",
       "      <td>Train yourself to let go of everything you fea...</td>\n",
       "      <td>[0, 1, 2, 3, 4, 5, 6, 7, 8, 9, 10]</td>\n",
       "    </tr>\n",
       "  </tbody>\n",
       "</table>\n",
       "</div>"
      ],
      "text/plain": [
       "                                              original  \\\n",
       "104                dismantle the coded signal quickly.   \n",
       "81                                            i agree.   \n",
       "119                 visit the new emperor, my task is.   \n",
       "13                                       how feel you?   \n",
       "60   train yourself to let go of everything you fea...   \n",
       "\n",
       "                                        normal_english  \\\n",
       "104                Quickly dismantle the coded signal.   \n",
       "81                                            I agree.   \n",
       "119                  My task is visit the new emperor.   \n",
       "13                                       You feel how?   \n",
       "60   Train yourself to let go of everything you fea...   \n",
       "\n",
       "                                mapping  \n",
       "104                     [4, 0, 1, 2, 3]  \n",
       "81                               [0, 1]  \n",
       "119               [4, 5, 6, 0, 1, 2, 3]  \n",
       "13                            [2, 1, 0]  \n",
       "60   [0, 1, 2, 3, 4, 5, 6, 7, 8, 9, 10]  "
      ]
     },
     "metadata": {},
     "output_type": "display_data"
    }
   ],
   "source": [
    "final_df = pd.concat(final_dfs, ignore_index=True)\n",
    "print(f\"Final rows: {len(final_df):,}\")\n",
    "display(final_df.sample(5))"
   ]
  },
  {
   "cell_type": "code",
   "execution_count": 35,
   "metadata": {},
   "outputs": [],
   "source": [
    "import json"
   ]
  },
  {
   "cell_type": "code",
   "execution_count": 36,
   "metadata": {},
   "outputs": [],
   "source": [
    "df_to_save = final_df.copy()\n",
    "df_to_save['mapping'] = df_to_save['mapping'].apply(json.dumps)\n",
    "\n",
    "df_to_save.to_csv(\"data/yoda_sentences_normalized.csv\", index=False)"
   ]
  }
 ],
 "metadata": {
  "kernelspec": {
   "display_name": "env",
   "language": "python",
   "name": "python3"
  },
  "language_info": {
   "codemirror_mode": {
    "name": "ipython",
    "version": 3
   },
   "file_extension": ".py",
   "mimetype": "text/x-python",
   "name": "python",
   "nbconvert_exporter": "python",
   "pygments_lexer": "ipython3",
   "version": "3.12.4"
  }
 },
 "nbformat": 4,
 "nbformat_minor": 2
}
